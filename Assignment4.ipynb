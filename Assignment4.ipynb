{
 "cells": [
  {
   "cell_type": "markdown",
   "metadata": {},
   "source": [
    "1.2 Write a function filter_long_words() that takes a list of words and an integer n and returns\n",
    "the list of words that are longer than n."
   ]
  },
  {
   "cell_type": "code",
   "execution_count": 19,
   "metadata": {},
   "outputs": [
    {
     "name": "stdout",
     "output_type": "stream",
     "text": [
      "Enter the len of words to be in list : 3\n",
      "['hello', 'goodbye']\n"
     ]
    }
   ],
   "source": [
    "def filter_long_words(lst,n):\n",
    "    new_list = []\n",
    "    for i in lst:\n",
    "        if len(i)>n:\n",
    "            new_list.append(i)\n",
    "    return new_list\n",
    "\n",
    "lst = [\"hi\",\"hello\",\"i\",\"goodbye\"]\n",
    "n = int(input(\"Enter the len of words to be in list : \"))\n",
    "print(filter_long_words(lst,n))"
   ]
  },
  {
   "cell_type": "markdown",
   "metadata": {},
   "source": [
    "2.1 Write a Python program using function concept that maps list of words into a list of integers\n",
    "representing the lengths of the corresponding words.\n",
    "Hint: If a list [ ab,cde,erty] is passed on to the python function output should come as [2,3,4]\n",
    "Here 2,3 and 4 are the lengths of the words in the list."
   ]
  },
  {
   "cell_type": "code",
   "execution_count": 2,
   "metadata": {},
   "outputs": [
    {
     "data": {
      "text/plain": [
       "[2, 3, 4]"
      ]
     },
     "execution_count": 2,
     "metadata": {},
     "output_type": "execute_result"
    }
   ],
   "source": [
    "new_list = []\n",
    "def word_count(lst):\n",
    "    for i in lst:\n",
    "        new_list.append(len(i))\n",
    "    return new_list\n",
    "\n",
    "lst = [\"ab\",\"cde\",\"erty\"]\n",
    "word_count(lst)"
   ]
  },
  {
   "cell_type": "markdown",
   "metadata": {},
   "source": [
    "2.2 Write a Python function which takes a character (i.e. a string of length 1) and returns True if\n",
    "it is a vowel, False otherwise."
   ]
  },
  {
   "cell_type": "code",
   "execution_count": 20,
   "metadata": {},
   "outputs": [
    {
     "name": "stdout",
     "output_type": "stream",
     "text": [
      "Enter the letter to check : e\n",
      "True\n"
     ]
    }
   ],
   "source": [
    "def vowel_check(word):\n",
    "    vowel_list = [\"a\",\"e\",\"i\",\"o\",\"u\"]\n",
    "    result = \"\"\n",
    "    if(len(word)==1):\n",
    "        if (word.lower() in vowel_list):\n",
    "            result = True\n",
    "        else:\n",
    "            result = False\n",
    "    else:\n",
    "        result = \"Enter one word ONLY\"\n",
    "    return result\n",
    "vowel = input(\"Enter the letter to check : \")\n",
    "output = vowel_check(vowel)\n",
    "print(output)\n",
    "\n",
    "        \n",
    "    "
   ]
  },
  {
   "cell_type": "code",
   "execution_count": null,
   "metadata": {},
   "outputs": [],
   "source": []
  }
 ],
 "metadata": {
  "kernelspec": {
   "display_name": "Python 3",
   "language": "python",
   "name": "python3"
  },
  "language_info": {
   "codemirror_mode": {
    "name": "ipython",
    "version": 3
   },
   "file_extension": ".py",
   "mimetype": "text/x-python",
   "name": "python",
   "nbconvert_exporter": "python",
   "pygments_lexer": "ipython3",
   "version": "3.6.9"
  }
 },
 "nbformat": 4,
 "nbformat_minor": 2
}
